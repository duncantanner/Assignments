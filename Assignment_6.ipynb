{
  "nbformat": 4,
  "nbformat_minor": 0,
  "metadata": {
    "colab": {
      "provenance": [],
      "authorship_tag": "ABX9TyPdaK0PnTzApUdkf5w/oml/",
      "include_colab_link": true
    },
    "kernelspec": {
      "name": "python3",
      "display_name": "Python 3"
    },
    "language_info": {
      "name": "python"
    }
  },
  "cells": [
    {
      "cell_type": "markdown",
      "metadata": {
        "id": "view-in-github",
        "colab_type": "text"
      },
      "source": [
        "<a href=\"https://colab.research.google.com/github/duncantanner/Assignments/blob/main/Assignment_6.ipynb\" target=\"_parent\"><img src=\"https://colab.research.google.com/assets/colab-badge.svg\" alt=\"Open In Colab\"/></a>"
      ]
    },
    {
      "cell_type": "code",
      "execution_count": 1,
      "metadata": {
        "colab": {
          "base_uri": "https://localhost:8080/"
        },
        "id": "jD221fnggBFC",
        "outputId": "4a55527b-7d98-4bef-d886-d75324afa8f4"
      },
      "outputs": [
        {
          "output_type": "stream",
          "name": "stdout",
          "text": [
            "Cloning into 'linearRegression'...\n",
            "remote: Enumerating objects: 42, done.\u001b[K\n",
            "remote: Counting objects: 100% (12/12), done.\u001b[K\n",
            "remote: Compressing objects: 100% (10/10), done.\u001b[K\n",
            "remote: Total 42 (delta 6), reused 2 (delta 2), pack-reused 30\u001b[K\n",
            "Receiving objects: 100% (42/42), 2.49 MiB | 9.85 MiB/s, done.\n",
            "Resolving deltas: 100% (8/8), done.\n"
          ]
        }
      ],
      "source": [
        "! git clone https://github.com/DS3001/linearRegression"
      ]
    },
    {
      "cell_type": "code",
      "source": [
        "import numpy as np\n",
        "import pandas as pd\n",
        "import matplotlib.pyplot as plt\n",
        "import seaborn as sns\n",
        "\n",
        "df = pd.read_csv('./linearRegression/data/Q1_clean.csv')\n",
        "df.loc[:,['Price','Neighbourhood '] ].groupby('Neighbourhood ').describe()\n"
      ],
      "metadata": {
        "colab": {
          "base_uri": "https://localhost:8080/",
          "height": 268
        },
        "id": "0Q0tFvgAgfx6",
        "outputId": "decb771f-7bb7-42a8-82bd-158cd5cb6327"
      },
      "execution_count": 2,
      "outputs": [
        {
          "output_type": "execute_result",
          "data": {
            "text/plain": [
              "                  Price                                                      \\\n",
              "                  count        mean         std   min     25%    50%    75%   \n",
              "Neighbourhood                                                                 \n",
              "Bronx             217.0   75.276498   39.755468  10.0   50.00   60.0   90.0   \n",
              "Brooklyn         8487.0  127.747378  106.038466  20.0   75.00  100.0  150.0   \n",
              "Manhattan       11763.0  183.664286  170.434606  25.0  103.00  150.0  214.0   \n",
              "Queens           1590.0   96.857233   61.712648  25.0   60.00   80.0  115.0   \n",
              "Staten Island      96.0  146.166667  508.462029  35.0   54.75   71.0   99.0   \n",
              "\n",
              "                         \n",
              "                    max  \n",
              "Neighbourhood            \n",
              "Bronx             244.0  \n",
              "Brooklyn         4500.0  \n",
              "Manhattan       10000.0  \n",
              "Queens            950.0  \n",
              "Staten Island    5000.0  "
            ],
            "text/html": [
              "\n",
              "  <div id=\"df-634acb23-69d5-41e4-8f98-346d9fc74639\" class=\"colab-df-container\">\n",
              "    <div>\n",
              "<style scoped>\n",
              "    .dataframe tbody tr th:only-of-type {\n",
              "        vertical-align: middle;\n",
              "    }\n",
              "\n",
              "    .dataframe tbody tr th {\n",
              "        vertical-align: top;\n",
              "    }\n",
              "\n",
              "    .dataframe thead tr th {\n",
              "        text-align: left;\n",
              "    }\n",
              "\n",
              "    .dataframe thead tr:last-of-type th {\n",
              "        text-align: right;\n",
              "    }\n",
              "</style>\n",
              "<table border=\"1\" class=\"dataframe\">\n",
              "  <thead>\n",
              "    <tr>\n",
              "      <th></th>\n",
              "      <th colspan=\"8\" halign=\"left\">Price</th>\n",
              "    </tr>\n",
              "    <tr>\n",
              "      <th></th>\n",
              "      <th>count</th>\n",
              "      <th>mean</th>\n",
              "      <th>std</th>\n",
              "      <th>min</th>\n",
              "      <th>25%</th>\n",
              "      <th>50%</th>\n",
              "      <th>75%</th>\n",
              "      <th>max</th>\n",
              "    </tr>\n",
              "    <tr>\n",
              "      <th>Neighbourhood</th>\n",
              "      <th></th>\n",
              "      <th></th>\n",
              "      <th></th>\n",
              "      <th></th>\n",
              "      <th></th>\n",
              "      <th></th>\n",
              "      <th></th>\n",
              "      <th></th>\n",
              "    </tr>\n",
              "  </thead>\n",
              "  <tbody>\n",
              "    <tr>\n",
              "      <th>Bronx</th>\n",
              "      <td>217.0</td>\n",
              "      <td>75.276498</td>\n",
              "      <td>39.755468</td>\n",
              "      <td>10.0</td>\n",
              "      <td>50.00</td>\n",
              "      <td>60.0</td>\n",
              "      <td>90.0</td>\n",
              "      <td>244.0</td>\n",
              "    </tr>\n",
              "    <tr>\n",
              "      <th>Brooklyn</th>\n",
              "      <td>8487.0</td>\n",
              "      <td>127.747378</td>\n",
              "      <td>106.038466</td>\n",
              "      <td>20.0</td>\n",
              "      <td>75.00</td>\n",
              "      <td>100.0</td>\n",
              "      <td>150.0</td>\n",
              "      <td>4500.0</td>\n",
              "    </tr>\n",
              "    <tr>\n",
              "      <th>Manhattan</th>\n",
              "      <td>11763.0</td>\n",
              "      <td>183.664286</td>\n",
              "      <td>170.434606</td>\n",
              "      <td>25.0</td>\n",
              "      <td>103.00</td>\n",
              "      <td>150.0</td>\n",
              "      <td>214.0</td>\n",
              "      <td>10000.0</td>\n",
              "    </tr>\n",
              "    <tr>\n",
              "      <th>Queens</th>\n",
              "      <td>1590.0</td>\n",
              "      <td>96.857233</td>\n",
              "      <td>61.712648</td>\n",
              "      <td>25.0</td>\n",
              "      <td>60.00</td>\n",
              "      <td>80.0</td>\n",
              "      <td>115.0</td>\n",
              "      <td>950.0</td>\n",
              "    </tr>\n",
              "    <tr>\n",
              "      <th>Staten Island</th>\n",
              "      <td>96.0</td>\n",
              "      <td>146.166667</td>\n",
              "      <td>508.462029</td>\n",
              "      <td>35.0</td>\n",
              "      <td>54.75</td>\n",
              "      <td>71.0</td>\n",
              "      <td>99.0</td>\n",
              "      <td>5000.0</td>\n",
              "    </tr>\n",
              "  </tbody>\n",
              "</table>\n",
              "</div>\n",
              "    <div class=\"colab-df-buttons\">\n",
              "\n",
              "  <div class=\"colab-df-container\">\n",
              "    <button class=\"colab-df-convert\" onclick=\"convertToInteractive('df-634acb23-69d5-41e4-8f98-346d9fc74639')\"\n",
              "            title=\"Convert this dataframe to an interactive table.\"\n",
              "            style=\"display:none;\">\n",
              "\n",
              "  <svg xmlns=\"http://www.w3.org/2000/svg\" height=\"24px\" viewBox=\"0 -960 960 960\">\n",
              "    <path d=\"M120-120v-720h720v720H120Zm60-500h600v-160H180v160Zm220 220h160v-160H400v160Zm0 220h160v-160H400v160ZM180-400h160v-160H180v160Zm440 0h160v-160H620v160ZM180-180h160v-160H180v160Zm440 0h160v-160H620v160Z\"/>\n",
              "  </svg>\n",
              "    </button>\n",
              "\n",
              "  <style>\n",
              "    .colab-df-container {\n",
              "      display:flex;\n",
              "      gap: 12px;\n",
              "    }\n",
              "\n",
              "    .colab-df-convert {\n",
              "      background-color: #E8F0FE;\n",
              "      border: none;\n",
              "      border-radius: 50%;\n",
              "      cursor: pointer;\n",
              "      display: none;\n",
              "      fill: #1967D2;\n",
              "      height: 32px;\n",
              "      padding: 0 0 0 0;\n",
              "      width: 32px;\n",
              "    }\n",
              "\n",
              "    .colab-df-convert:hover {\n",
              "      background-color: #E2EBFA;\n",
              "      box-shadow: 0px 1px 2px rgba(60, 64, 67, 0.3), 0px 1px 3px 1px rgba(60, 64, 67, 0.15);\n",
              "      fill: #174EA6;\n",
              "    }\n",
              "\n",
              "    .colab-df-buttons div {\n",
              "      margin-bottom: 4px;\n",
              "    }\n",
              "\n",
              "    [theme=dark] .colab-df-convert {\n",
              "      background-color: #3B4455;\n",
              "      fill: #D2E3FC;\n",
              "    }\n",
              "\n",
              "    [theme=dark] .colab-df-convert:hover {\n",
              "      background-color: #434B5C;\n",
              "      box-shadow: 0px 1px 3px 1px rgba(0, 0, 0, 0.15);\n",
              "      filter: drop-shadow(0px 1px 2px rgba(0, 0, 0, 0.3));\n",
              "      fill: #FFFFFF;\n",
              "    }\n",
              "  </style>\n",
              "\n",
              "    <script>\n",
              "      const buttonEl =\n",
              "        document.querySelector('#df-634acb23-69d5-41e4-8f98-346d9fc74639 button.colab-df-convert');\n",
              "      buttonEl.style.display =\n",
              "        google.colab.kernel.accessAllowed ? 'block' : 'none';\n",
              "\n",
              "      async function convertToInteractive(key) {\n",
              "        const element = document.querySelector('#df-634acb23-69d5-41e4-8f98-346d9fc74639');\n",
              "        const dataTable =\n",
              "          await google.colab.kernel.invokeFunction('convertToInteractive',\n",
              "                                                    [key], {});\n",
              "        if (!dataTable) return;\n",
              "\n",
              "        const docLinkHtml = 'Like what you see? Visit the ' +\n",
              "          '<a target=\"_blank\" href=https://colab.research.google.com/notebooks/data_table.ipynb>data table notebook</a>'\n",
              "          + ' to learn more about interactive tables.';\n",
              "        element.innerHTML = '';\n",
              "        dataTable['output_type'] = 'display_data';\n",
              "        await google.colab.output.renderOutput(dataTable, element);\n",
              "        const docLink = document.createElement('div');\n",
              "        docLink.innerHTML = docLinkHtml;\n",
              "        element.appendChild(docLink);\n",
              "      }\n",
              "    </script>\n",
              "  </div>\n",
              "\n",
              "\n",
              "<div id=\"df-15c7ba1d-d37c-418d-a550-c643e46ad08f\">\n",
              "  <button class=\"colab-df-quickchart\" onclick=\"quickchart('df-15c7ba1d-d37c-418d-a550-c643e46ad08f')\"\n",
              "            title=\"Suggest charts\"\n",
              "            style=\"display:none;\">\n",
              "\n",
              "<svg xmlns=\"http://www.w3.org/2000/svg\" height=\"24px\"viewBox=\"0 0 24 24\"\n",
              "     width=\"24px\">\n",
              "    <g>\n",
              "        <path d=\"M19 3H5c-1.1 0-2 .9-2 2v14c0 1.1.9 2 2 2h14c1.1 0 2-.9 2-2V5c0-1.1-.9-2-2-2zM9 17H7v-7h2v7zm4 0h-2V7h2v10zm4 0h-2v-4h2v4z\"/>\n",
              "    </g>\n",
              "</svg>\n",
              "  </button>\n",
              "\n",
              "<style>\n",
              "  .colab-df-quickchart {\n",
              "      --bg-color: #E8F0FE;\n",
              "      --fill-color: #1967D2;\n",
              "      --hover-bg-color: #E2EBFA;\n",
              "      --hover-fill-color: #174EA6;\n",
              "      --disabled-fill-color: #AAA;\n",
              "      --disabled-bg-color: #DDD;\n",
              "  }\n",
              "\n",
              "  [theme=dark] .colab-df-quickchart {\n",
              "      --bg-color: #3B4455;\n",
              "      --fill-color: #D2E3FC;\n",
              "      --hover-bg-color: #434B5C;\n",
              "      --hover-fill-color: #FFFFFF;\n",
              "      --disabled-bg-color: #3B4455;\n",
              "      --disabled-fill-color: #666;\n",
              "  }\n",
              "\n",
              "  .colab-df-quickchart {\n",
              "    background-color: var(--bg-color);\n",
              "    border: none;\n",
              "    border-radius: 50%;\n",
              "    cursor: pointer;\n",
              "    display: none;\n",
              "    fill: var(--fill-color);\n",
              "    height: 32px;\n",
              "    padding: 0;\n",
              "    width: 32px;\n",
              "  }\n",
              "\n",
              "  .colab-df-quickchart:hover {\n",
              "    background-color: var(--hover-bg-color);\n",
              "    box-shadow: 0 1px 2px rgba(60, 64, 67, 0.3), 0 1px 3px 1px rgba(60, 64, 67, 0.15);\n",
              "    fill: var(--button-hover-fill-color);\n",
              "  }\n",
              "\n",
              "  .colab-df-quickchart-complete:disabled,\n",
              "  .colab-df-quickchart-complete:disabled:hover {\n",
              "    background-color: var(--disabled-bg-color);\n",
              "    fill: var(--disabled-fill-color);\n",
              "    box-shadow: none;\n",
              "  }\n",
              "\n",
              "  .colab-df-spinner {\n",
              "    border: 2px solid var(--fill-color);\n",
              "    border-color: transparent;\n",
              "    border-bottom-color: var(--fill-color);\n",
              "    animation:\n",
              "      spin 1s steps(1) infinite;\n",
              "  }\n",
              "\n",
              "  @keyframes spin {\n",
              "    0% {\n",
              "      border-color: transparent;\n",
              "      border-bottom-color: var(--fill-color);\n",
              "      border-left-color: var(--fill-color);\n",
              "    }\n",
              "    20% {\n",
              "      border-color: transparent;\n",
              "      border-left-color: var(--fill-color);\n",
              "      border-top-color: var(--fill-color);\n",
              "    }\n",
              "    30% {\n",
              "      border-color: transparent;\n",
              "      border-left-color: var(--fill-color);\n",
              "      border-top-color: var(--fill-color);\n",
              "      border-right-color: var(--fill-color);\n",
              "    }\n",
              "    40% {\n",
              "      border-color: transparent;\n",
              "      border-right-color: var(--fill-color);\n",
              "      border-top-color: var(--fill-color);\n",
              "    }\n",
              "    60% {\n",
              "      border-color: transparent;\n",
              "      border-right-color: var(--fill-color);\n",
              "    }\n",
              "    80% {\n",
              "      border-color: transparent;\n",
              "      border-right-color: var(--fill-color);\n",
              "      border-bottom-color: var(--fill-color);\n",
              "    }\n",
              "    90% {\n",
              "      border-color: transparent;\n",
              "      border-bottom-color: var(--fill-color);\n",
              "    }\n",
              "  }\n",
              "</style>\n",
              "\n",
              "  <script>\n",
              "    async function quickchart(key) {\n",
              "      const quickchartButtonEl =\n",
              "        document.querySelector('#' + key + ' button');\n",
              "      quickchartButtonEl.disabled = true;  // To prevent multiple clicks.\n",
              "      quickchartButtonEl.classList.add('colab-df-spinner');\n",
              "      try {\n",
              "        const charts = await google.colab.kernel.invokeFunction(\n",
              "            'suggestCharts', [key], {});\n",
              "      } catch (error) {\n",
              "        console.error('Error during call to suggestCharts:', error);\n",
              "      }\n",
              "      quickchartButtonEl.classList.remove('colab-df-spinner');\n",
              "      quickchartButtonEl.classList.add('colab-df-quickchart-complete');\n",
              "    }\n",
              "    (() => {\n",
              "      let quickchartButtonEl =\n",
              "        document.querySelector('#df-15c7ba1d-d37c-418d-a550-c643e46ad08f button');\n",
              "      quickchartButtonEl.style.display =\n",
              "        google.colab.kernel.accessAllowed ? 'block' : 'none';\n",
              "    })();\n",
              "  </script>\n",
              "</div>\n",
              "\n",
              "    </div>\n",
              "  </div>\n"
            ],
            "application/vnd.google.colaboratory.intrinsic+json": {
              "type": "dataframe",
              "summary": "{\n  \"name\": \"df\",\n  \"rows\": 5,\n  \"fields\": [\n    {\n      \"column\": [\n        \"Neighbourhood \",\n        \"\"\n      ],\n      \"properties\": {\n        \"dtype\": \"string\",\n        \"num_unique_values\": 5,\n        \"samples\": [\n          \"Brooklyn\",\n          \"Staten Island\",\n          \"Manhattan\"\n        ],\n        \"semantic_type\": \"\",\n        \"description\": \"\"\n      }\n    },\n    {\n      \"column\": [\n        \"Price\",\n        \"count\"\n      ],\n      \"properties\": {\n        \"dtype\": \"number\",\n        \"std\": 5357.953461910621,\n        \"min\": 96.0,\n        \"max\": 11763.0,\n        \"num_unique_values\": 5,\n        \"samples\": [\n          8487.0,\n          96.0,\n          11763.0\n        ],\n        \"semantic_type\": \"\",\n        \"description\": \"\"\n      }\n    },\n    {\n      \"column\": [\n        \"Price\",\n        \"mean\"\n      ],\n      \"properties\": {\n        \"dtype\": \"number\",\n        \"std\": 42.29975083391164,\n        \"min\": 75.27649769585254,\n        \"max\": 183.6642863215166,\n        \"num_unique_values\": 5,\n        \"samples\": [\n          127.74737834334866,\n          146.16666666666666,\n          183.6642863215166\n        ],\n        \"semantic_type\": \"\",\n        \"description\": \"\"\n      }\n    },\n    {\n      \"column\": [\n        \"Price\",\n        \"std\"\n      ],\n      \"properties\": {\n        \"dtype\": \"number\",\n        \"std\": 191.75020308796817,\n        \"min\": 39.75546841830139,\n        \"max\": 508.4620291503774,\n        \"num_unique_values\": 5,\n        \"samples\": [\n          106.038466143408,\n          508.4620291503774,\n          170.43460636657392\n        ],\n        \"semantic_type\": \"\",\n        \"description\": \"\"\n      }\n    },\n    {\n      \"column\": [\n        \"Price\",\n        \"min\"\n      ],\n      \"properties\": {\n        \"dtype\": \"number\",\n        \"std\": 9.082951062292475,\n        \"min\": 10.0,\n        \"max\": 35.0,\n        \"num_unique_values\": 4,\n        \"samples\": [\n          20.0,\n          35.0,\n          10.0\n        ],\n        \"semantic_type\": \"\",\n        \"description\": \"\"\n      }\n    },\n    {\n      \"column\": [\n        \"Price\",\n        \"25%\"\n      ],\n      \"properties\": {\n        \"dtype\": \"number\",\n        \"std\": 21.424577008659938,\n        \"min\": 50.0,\n        \"max\": 103.0,\n        \"num_unique_values\": 5,\n        \"samples\": [\n          75.0,\n          54.75,\n          103.0\n        ],\n        \"semantic_type\": \"\",\n        \"description\": \"\"\n      }\n    },\n    {\n      \"column\": [\n        \"Price\",\n        \"50%\"\n      ],\n      \"properties\": {\n        \"dtype\": \"number\",\n        \"std\": 35.485208185947,\n        \"min\": 60.0,\n        \"max\": 150.0,\n        \"num_unique_values\": 5,\n        \"samples\": [\n          100.0,\n          71.0,\n          150.0\n        ],\n        \"semantic_type\": \"\",\n        \"description\": \"\"\n      }\n    },\n    {\n      \"column\": [\n        \"Price\",\n        \"75%\"\n      ],\n      \"properties\": {\n        \"dtype\": \"number\",\n        \"std\": 50.441054707450355,\n        \"min\": 90.0,\n        \"max\": 214.0,\n        \"num_unique_values\": 5,\n        \"samples\": [\n          150.0,\n          99.0,\n          214.0\n        ],\n        \"semantic_type\": \"\",\n        \"description\": \"\"\n      }\n    },\n    {\n      \"column\": [\n        \"Price\",\n        \"max\"\n      ],\n      \"properties\": {\n        \"dtype\": \"number\",\n        \"std\": 3891.13443612528,\n        \"min\": 244.0,\n        \"max\": 10000.0,\n        \"num_unique_values\": 5,\n        \"samples\": [\n          4500.0,\n          5000.0,\n          10000.0\n        ],\n        \"semantic_type\": \"\",\n        \"description\": \"\"\n      }\n    }\n  ]\n}"
            }
          },
          "metadata": {},
          "execution_count": 2
        }
      ]
    },
    {
      "cell_type": "markdown",
      "source": [
        "On average, Manhattan is the most expensive neighbourhood, with a mean price of $183.66."
      ],
      "metadata": {
        "id": "43UpLL-ih3HX"
      }
    },
    {
      "cell_type": "code",
      "source": [
        "sns.kdeplot(x=df['Price'], hue=df['Neighbourhood '])\n",
        "plt.show()\n",
        "sns.kdeplot(x=np.log(df['Price']), hue=df['Neighbourhood '])\n",
        "plt.show()"
      ],
      "metadata": {
        "colab": {
          "base_uri": "https://localhost:8080/",
          "height": 881
        },
        "id": "KqJ9prlVhw98",
        "outputId": "a0c73534-6fa7-475e-a061-0c074dde4ee0"
      },
      "execution_count": 3,
      "outputs": [
        {
          "output_type": "display_data",
          "data": {
            "text/plain": [
              "<Figure size 640x480 with 1 Axes>"
            ],
            "image/png": "[encoded data removed]"
          },
          "metadata": {}
        },
        {
          "output_type": "display_data",
          "data": {
            "text/plain": [
              "<Figure size 640x480 with 1 Axes>"
            ],
            "image/png": "[encoded data removed]"
          },
          "metadata": {}
        }
      ]
    },
    {
      "cell_type": "code",
      "source": [
        "y = df['Price']\n",
        "X = pd.get_dummies(df['Neighbourhood '], dtype='int')\n",
        "\n",
        "from sklearn import linear_model\n",
        "reg = linear_model.LinearRegression(fit_intercept=False).fit(X,y)\n",
        "\n",
        "results = pd.DataFrame({'variable':reg.feature_names_in_, 'coefficient': reg.coef_})\n",
        "print(results)"
      ],
      "metadata": {
        "colab": {
          "base_uri": "https://localhost:8080/"
        },
        "id": "MoTU-gvqnsno",
        "outputId": "67837100-5fd6-400b-cb31-6fa7ddcc6392"
      },
      "execution_count": 13,
      "outputs": [
        {
          "output_type": "stream",
          "name": "stdout",
          "text": [
            "        variable  coefficient\n",
            "0          Bronx    75.276498\n",
            "1       Brooklyn   127.747378\n",
            "2      Manhattan   183.664286\n",
            "3         Queens    96.857233\n",
            "4  Staten Island   146.166667\n"
          ]
        }
      ]
    },
    {
      "cell_type": "markdown",
      "source": [
        "The regression coefficients are the same as the means from part 1."
      ],
      "metadata": {
        "id": "y-f5RAQhoMjd"
      }
    },
    {
      "cell_type": "code",
      "source": [
        "y = df['Price']\n",
        "X = pd.get_dummies(df['Neighbourhood '], dtype='int', drop_first=True)\n",
        "\n",
        "from sklearn import linear_model\n",
        "reg = linear_model.LinearRegression().fit(X,y)\n",
        "\n",
        "results = pd.DataFrame({'variable':reg.feature_names_in_, 'coefficient': reg.coef_})\n",
        "print(results)"
      ],
      "metadata": {
        "colab": {
          "base_uri": "https://localhost:8080/"
        },
        "id": "WcO-BsMGoVbr",
        "outputId": "fb0b0f40-41c1-40de-9a72-0967350f474d"
      },
      "execution_count": 16,
      "outputs": [
        {
          "output_type": "stream",
          "name": "stdout",
          "text": [
            "        variable  coefficient\n",
            "0       Brooklyn    52.470881\n",
            "1      Manhattan   108.387789\n",
            "2         Queens    21.580735\n",
            "3  Staten Island    70.890169\n"
          ]
        }
      ]
    },
    {
      "cell_type": "code",
      "source": [
        "print(reg.intercept_)"
      ],
      "metadata": {
        "colab": {
          "base_uri": "https://localhost:8080/"
        },
        "id": "-u1R0uhjod_4",
        "outputId": "0fd857e0-f055-44ee-d71f-a7838962bcb3"
      },
      "execution_count": 17,
      "outputs": [
        {
          "output_type": "stream",
          "name": "stdout",
          "text": [
            "75.27649769585331\n"
          ]
        }
      ]
    },
    {
      "cell_type": "markdown",
      "source": [
        "The coefficient for Bronx was dropped, and instead its coefficient became the intercept, meaning the coefficients for the other neighborhoods are being compared to Bronx, so adding these new coefficients to the Bronx coefficient/new intercept will give you the old coefficients."
      ],
      "metadata": {
        "id": "RGNuGqpgoqrO"
      }
    },
    {
      "cell_type": "code",
      "source": [
        "from sklearn import linear_model\n",
        "from sklearn.model_selection import train_test_split\n",
        "\n",
        "y = df['Price']\n",
        "X = df.loc[:,['Review Scores Rating', 'Neighbourhood '] ]\n",
        "X_train, X_test, y_train, y_test = train_test_split(X,y,\n",
        "                                                    test_size=.2,\n",
        "                                                    random_state=100)\n",
        "Z_train = pd.concat([X_train['Review Scores Rating'],\n",
        "                     pd.get_dummies(X_train['Neighbourhood '], dtype='int')], axis = 1)\n",
        "Z_test = pd.concat([X_test['Review Scores Rating'],\n",
        "                    pd.get_dummies(X_test['Neighbourhood '], dtype='int')], axis = 1)\n",
        "\n",
        "reg = linear_model.LinearRegression(fit_intercept=False).fit(Z_train,y_train)\n",
        "\n",
        "y_hat = reg.predict(Z_test)\n",
        "print('r2: ', reg.score(Z_test,y_test)) # R2\n",
        "rmse = np.sqrt( np.mean( (y_test - y_hat)**2 ))\n",
        "print('RMSE: ', rmse) # R2\n",
        "\n",
        "results = pd.DataFrame({'variable':reg.feature_names_in_, 'coefficient': reg.coef_})\n",
        "print(results)"
      ],
      "metadata": {
        "colab": {
          "base_uri": "https://localhost:8080/"
        },
        "id": "3dw5xjASqmLl",
        "outputId": "a7de81ea-db53-4644-eabc-d0feb85eb640"
      },
      "execution_count": 26,
      "outputs": [
        {
          "output_type": "stream",
          "name": "stdout",
          "text": [
            "r2:  0.06701086106947296\n",
            "RMSE:  125.01092061382933\n",
            "               variable  coefficient\n",
            "0  Review Scores Rating     1.032257\n",
            "1                 Bronx   -17.261392\n",
            "2              Brooklyn    32.180888\n",
            "3             Manhattan    89.421020\n",
            "4                Queens     4.050208\n",
            "5         Staten Island    61.576393\n"
          ]
        }
      ]
    },
    {
      "cell_type": "markdown",
      "source": [
        "The most expensive that you can rent is a property in Manhattan."
      ],
      "metadata": {
        "id": "MyouqO-Dr-s9"
      }
    },
    {
      "cell_type": "code",
      "source": [
        "from sklearn import linear_model\n",
        "from sklearn.model_selection import train_test_split\n",
        "\n",
        "y = df['Price']\n",
        "X = df.loc[:,['Review Scores Rating', 'Neighbourhood ', 'Room Type'] ]\n",
        "X_train, X_test, y_train, y_test = train_test_split(X,y,\n",
        "                                                    test_size=.2,\n",
        "                                                    random_state=100)\n",
        "Z_train = pd.concat([X_train['Review Scores Rating'],\n",
        "                     pd.get_dummies(X_train['Neighbourhood '], dtype='int'),\n",
        "                    pd.get_dummies(X_train['Room Type'], dtype='int')],\n",
        "                    axis = 1)\n",
        "Z_test = pd.concat([X_test['Review Scores Rating'],\n",
        "                    pd.get_dummies(X_test['Neighbourhood '], dtype='int'),\n",
        "                    pd.get_dummies(X_test['Room Type'], dtype='int')],\n",
        "                    axis = 1)\n",
        "\n",
        "reg = linear_model.LinearRegression(fit_intercept=False).fit(Z_train,y_train)\n",
        "\n",
        "y_hat = reg.predict(Z_test)\n",
        "print('r2: ', reg.score(Z_test,y_test)) # R2\n",
        "rmse = np.sqrt( np.mean( (y_test - y_hat)**2 ))\n",
        "print('RMSE: ', rmse) # R2\n",
        "\n",
        "results = pd.DataFrame({'variable':reg.feature_names_in_, 'coefficient': reg.coef_})\n",
        "print(results)"
      ],
      "metadata": {
        "colab": {
          "base_uri": "https://localhost:8080/"
        },
        "id": "Utoz-1Unr5ym",
        "outputId": "782971a6-2f78-4a6f-edfd-dc3d16472181"
      },
      "execution_count": 34,
      "outputs": [
        {
          "output_type": "stream",
          "name": "stdout",
          "text": [
            "r2:  0.22035348129282306\n",
            "RMSE:  114.27692123130633\n",
            "               variable  coefficient\n",
            "0  Review Scores Rating     0.626912\n",
            "1                 Bronx   -13.022765\n",
            "2              Brooklyn    10.378456\n",
            "3             Manhattan    53.693304\n",
            "4                Queens    -6.833330\n",
            "5         Staten Island    50.003022\n",
            "6       Entire home/apt   110.617820\n",
            "7          Private room     3.101341\n",
            "8           Shared room   -19.500474\n"
          ]
        }
      ]
    },
    {
      "cell_type": "markdown",
      "source": [
        "The most expensive is an entire home/apt in Manhattan."
      ],
      "metadata": {
        "id": "lccI29tFtRJg"
      }
    },
    {
      "cell_type": "markdown",
      "source": [
        "The change in the RMSE from part 4 to 5 indicates that review scores are more predicitive for price based soley on location and less predicitve when you include more variables like Room Type."
      ],
      "metadata": {
        "id": "H4ChzEDItW7R"
      }
    },
    {
      "cell_type": "code",
      "source": [
        "print(\"Question 2:\", '\\n')\n",
        "import pandas as pd\n",
        "import numpy as np\n",
        "import seaborn as sns\n",
        "\n",
        "df = pd.read_csv('./linearRegression/data/cars_hw.csv')\n",
        "df0 = df\n",
        "print(df.head())\n",
        "print(df.isnull().sum)\n"
      ],
      "metadata": {
        "colab": {
          "base_uri": "https://localhost:8080/"
        },
        "id": "31uUI5ZbtuYH",
        "outputId": "29553e92-c6f7-4e3f-b470-b5693fd29228"
      },
      "execution_count": 53,
      "outputs": [
        {
          "output_type": "stream",
          "name": "stdout",
          "text": [
            "Question 2: \n",
            "\n",
            "   Unnamed: 0        Make  Make_Year   Color  Body_Type  Mileage_Run  \\\n",
            "0           1  Volkswagen       2017  silver      sedan        44611   \n",
            "1           2     Hyundai       2016     red  crossover        20305   \n",
            "2           3       Honda       2019   white        suv        29540   \n",
            "3           4     Renault       2017  bronze  hatchback        35680   \n",
            "4           5     Hyundai       2017  orange  hatchback        25126   \n",
            "\n",
            "  No_of_Owners  Seating_Capacity Fuel_Type Transmission Transmission_Type  \\\n",
            "0          1st                 5    diesel      7-Speed         Automatic   \n",
            "1          1st                 5    petrol      5-Speed            Manual   \n",
            "2          2nd                 5    petrol      5-Speed            Manual   \n",
            "3          1st                 5    petrol      5-Speed            Manual   \n",
            "4          1st                 5    petrol      5-Speed            Manual   \n",
            "\n",
            "    Price  \n",
            "0  657000  \n",
            "1  682000  \n",
            "2  793000  \n",
            "3  414000  \n",
            "4  515000  \n",
            "<bound method NDFrame._add_numeric_operations.<locals>.sum of      Unnamed: 0   Make  Make_Year  Color  Body_Type  Mileage_Run  \\\n",
            "0         False  False      False  False      False        False   \n",
            "1         False  False      False  False      False        False   \n",
            "2         False  False      False  False      False        False   \n",
            "3         False  False      False  False      False        False   \n",
            "4         False  False      False  False      False        False   \n",
            "..          ...    ...        ...    ...        ...          ...   \n",
            "971       False  False      False  False      False        False   \n",
            "972       False  False      False  False      False        False   \n",
            "973       False  False      False  False      False        False   \n",
            "974       False  False      False  False      False        False   \n",
            "975       False  False      False  False      False        False   \n",
            "\n",
            "     No_of_Owners  Seating_Capacity  Fuel_Type  Transmission  \\\n",
            "0           False             False      False         False   \n",
            "1           False             False      False         False   \n",
            "2           False             False      False         False   \n",
            "3           False             False      False         False   \n",
            "4           False             False      False         False   \n",
            "..            ...               ...        ...           ...   \n",
            "971         False             False      False         False   \n",
            "972         False             False      False         False   \n",
            "973         False             False      False         False   \n",
            "974         False             False      False         False   \n",
            "975         False             False      False         False   \n",
            "\n",
            "     Transmission_Type  Price  \n",
            "0                False  False  \n",
            "1                False  False  \n",
            "2                False  False  \n",
            "3                False  False  \n",
            "4                False  False  \n",
            "..                 ...    ...  \n",
            "971              False  False  \n",
            "972              False  False  \n",
            "973              False  False  \n",
            "974              False  False  \n",
            "975              False  False  \n",
            "\n",
            "[976 rows x 12 columns]>\n"
          ]
        }
      ]
    },
    {
      "cell_type": "code",
      "source": [
        "df['price_ihs'] = np.arcsinh(df['Price'])\n",
        "df['mileage_ihs'] = np.arcsinh(df['Mileage_Run'])\n",
        "df['age'] = max(df['Make_Year'])-df['Make_Year']\n",
        "df = df.drop(['Price','Mileage_Run','Make_Year','Unnamed: 0'],axis=1)\n",
        "df.boxplot()"
      ],
      "metadata": {
        "colab": {
          "base_uri": "https://localhost:8080/",
          "height": 447
        },
        "id": "R45oW2GBxXwv",
        "outputId": "abbfcc22-6375-4cba-a739-40088ba8eb2d"
      },
      "execution_count": 67,
      "outputs": [
        {
          "output_type": "execute_result",
          "data": {
            "text/plain": [
              "<Axes: >"
            ]
          },
          "metadata": {},
          "execution_count": 67
        },
        {
          "output_type": "display_data",
          "data": {
            "text/plain": [
              "<Figure size 640x480 with 1 Axes>"
            ],
            "image/png": "[encoded data removed]"
          },
          "metadata": {}
        }
      ]
    },
    {
      "cell_type": "code",
      "source": [
        "sns.kdeplot(data = df0, x = 'Price', hue = 'Make')\n",
        "plt.show()\n",
        "df0['Price'].groupby(df0['Make']).describe()"
      ],
      "metadata": {
        "colab": {
          "base_uri": "https://localhost:8080/",
          "height": 1000
        },
        "id": "KrNa4gwxxbWb",
        "outputId": "73afb74c-d5e5-4c74-d90e-653fc83a1c0b"
      },
      "execution_count": 65,
      "outputs": [
        {
          "output_type": "display_data",
          "data": {
            "text/plain": [
              "<Figure size 640x480 with 1 Axes>"
            ],
            "image/png": "[encoded data removed]"
          },
          "metadata": {}
        },
        {
          "output_type": "execute_result",
          "data": {
            "text/plain": [
              "               count          mean           std        min        25%  \\\n",
              "Make                                                                     \n",
              "Chevrolet        6.0  4.535000e+05  2.466064e+05   267000.0   288500.0   \n",
              "Datsun           3.0  2.896667e+05  1.050397e+04   279000.0   284500.0   \n",
              "Ford            52.0  7.211731e+05  1.409277e+05   290000.0   635000.0   \n",
              "Honda           73.0  7.989726e+05  2.665091e+05   316000.0   581000.0   \n",
              "Hyundai        305.0  6.918918e+05  2.791597e+05   248000.0   485000.0   \n",
              "Jeep             4.0  1.499500e+06  1.525134e+05  1290000.0  1447500.0   \n",
              "Kia              8.0  1.614750e+06  1.190567e+05  1369000.0  1579000.0   \n",
              "MG Motors       35.0  1.869457e+06  1.216611e+05  1589000.0  1786500.0   \n",
              "Mahindra        18.0  1.100167e+06  1.755493e+05   796000.0  1037000.0   \n",
              "Maruti Suzuki  293.0  5.887850e+05  2.160199e+05   237000.0   411000.0   \n",
              "Nissan           4.0  8.842500e+05  2.895599e+05   475000.0   782500.0   \n",
              "Renault         68.0  6.625735e+05  2.148273e+05   287000.0   475000.0   \n",
              "Skoda            5.0  1.136000e+06  1.070175e+06   436000.0   466000.0   \n",
              "Tata            23.0  1.055217e+06  5.578305e+05   188000.0   779500.0   \n",
              "Toyota          50.0  8.003400e+05  2.466900e+05   368000.0   526250.0   \n",
              "Volkswagen      29.0  6.058276e+05  1.198312e+05   402000.0   542000.0   \n",
              "\n",
              "                     50%        75%        max  \n",
              "Make                                            \n",
              "Chevrolet       345500.0   537500.0   892000.0  \n",
              "Datsun          290000.0   295000.0   300000.0  \n",
              "Ford            707500.0   787000.0  1066000.0  \n",
              "Honda           785000.0   915000.0  1537000.0  \n",
              "Hyundai         638000.0   837000.0  1742000.0  \n",
              "Jeep           1529500.0  1581500.0  1649000.0  \n",
              "Kia            1628500.0  1705750.0  1741000.0  \n",
              "MG Motors      1848000.0  1978000.0  2019000.0  \n",
              "Mahindra       1094500.0  1157000.0  1465000.0  \n",
              "Maruti Suzuki   527000.0   764000.0  1163000.0  \n",
              "Nissan          978000.0  1079750.0  1106000.0  \n",
              "Renault         644000.0   801000.0  1164000.0  \n",
              "Skoda           538000.0  1299000.0  2941000.0  \n",
              "Tata            869000.0  1552000.0  2100000.0  \n",
              "Toyota          894000.0  1023000.0  1092000.0  \n",
              "Volkswagen      607000.0   699000.0   790000.0  "
            ],
            "text/html": [
              "\n",
              "  <div id=\"df-9f29acfc-669b-43a7-80b8-7098111c6463\" class=\"colab-df-container\">\n",
              "    <div>\n",
              "<style scoped>\n",
              "    .dataframe tbody tr th:only-of-type {\n",
              "        vertical-align: middle;\n",
              "    }\n",
              "\n",
              "    .dataframe tbody tr th {\n",
              "        vertical-align: top;\n",
              "    }\n",
              "\n",
              "    .dataframe thead th {\n",
              "        text-align: right;\n",
              "    }\n",
              "</style>\n",
              "<table border=\"1\" class=\"dataframe\">\n",
              "  <thead>\n",
              "    <tr style=\"text-align: right;\">\n",
              "      <th></th>\n",
              "      <th>count</th>\n",
              "      <th>mean</th>\n",
              "      <th>std</th>\n",
              "      <th>min</th>\n",
              "      <th>25%</th>\n",
              "      <th>50%</th>\n",
              "      <th>75%</th>\n",
              "      <th>max</th>\n",
              "    </tr>\n",
              "    <tr>\n",
              "      <th>Make</th>\n",
              "      <th></th>\n",
              "      <th></th>\n",
              "      <th></th>\n",
              "      <th></th>\n",
              "      <th></th>\n",
              "      <th></th>\n",
              "      <th></th>\n",
              "      <th></th>\n",
              "    </tr>\n",
              "  </thead>\n",
              "  <tbody>\n",
              "    <tr>\n",
              "      <th>Chevrolet</th>\n",
              "      <td>6.0</td>\n",
              "      <td>4.535000e+05</td>\n",
              "      <td>2.466064e+05</td>\n",
              "      <td>267000.0</td>\n",
              "      <td>288500.0</td>\n",
              "      <td>345500.0</td>\n",
              "      <td>537500.0</td>\n",
              "      <td>892000.0</td>\n",
              "    </tr>\n",
              "    <tr>\n",
              "      <th>Datsun</th>\n",
              "      <td>3.0</td>\n",
              "      <td>2.896667e+05</td>\n",
              "      <td>1.050397e+04</td>\n",
              "      <td>279000.0</td>\n",
              "      <td>284500.0</td>\n",
              "      <td>290000.0</td>\n",
              "      <td>295000.0</td>\n",
              "      <td>300000.0</td>\n",
              "    </tr>\n",
              "    <tr>\n",
              "      <th>Ford</th>\n",
              "      <td>52.0</td>\n",
              "      <td>7.211731e+05</td>\n",
              "      <td>1.409277e+05</td>\n",
              "      <td>290000.0</td>\n",
              "      <td>635000.0</td>\n",
              "      <td>707500.0</td>\n",
              "      <td>787000.0</td>\n",
              "      <td>1066000.0</td>\n",
              "    </tr>\n",
              "    <tr>\n",
              "      <th>Honda</th>\n",
              "      <td>73.0</td>\n",
              "      <td>7.989726e+05</td>\n",
              "      <td>2.665091e+05</td>\n",
              "      <td>316000.0</td>\n",
              "      <td>581000.0</td>\n",
              "      <td>785000.0</td>\n",
              "      <td>915000.0</td>\n",
              "      <td>1537000.0</td>\n",
              "    </tr>\n",
              "    <tr>\n",
              "      <th>Hyundai</th>\n",
              "      <td>305.0</td>\n",
              "      <td>6.918918e+05</td>\n",
              "      <td>2.791597e+05</td>\n",
              "      <td>248000.0</td>\n",
              "      <td>485000.0</td>\n",
              "      <td>638000.0</td>\n",
              "      <td>837000.0</td>\n",
              "      <td>1742000.0</td>\n",
              "    </tr>\n",
              "    <tr>\n",
              "      <th>Jeep</th>\n",
              "      <td>4.0</td>\n",
              "      <td>1.499500e+06</td>\n",
              "      <td>1.525134e+05</td>\n",
              "      <td>1290000.0</td>\n",
              "      <td>1447500.0</td>\n",
              "      <td>1529500.0</td>\n",
              "      <td>1581500.0</td>\n",
              "      <td>1649000.0</td>\n",
              "    </tr>\n",
              "    <tr>\n",
              "      <th>Kia</th>\n",
              "      <td>8.0</td>\n",
              "      <td>1.614750e+06</td>\n",
              "      <td>1.190567e+05</td>\n",
              "      <td>1369000.0</td>\n",
              "      <td>1579000.0</td>\n",
              "      <td>1628500.0</td>\n",
              "      <td>1705750.0</td>\n",
              "      <td>1741000.0</td>\n",
              "    </tr>\n",
              "    <tr>\n",
              "      <th>MG Motors</th>\n",
              "      <td>35.0</td>\n",
              "      <td>1.869457e+06</td>\n",
              "      <td>1.216611e+05</td>\n",
              "      <td>1589000.0</td>\n",
              "      <td>1786500.0</td>\n",
              "      <td>1848000.0</td>\n",
              "      <td>1978000.0</td>\n",
              "      <td>2019000.0</td>\n",
              "    </tr>\n",
              "    <tr>\n",
              "      <th>Mahindra</th>\n",
              "      <td>18.0</td>\n",
              "      <td>1.100167e+06</td>\n",
              "      <td>1.755493e+05</td>\n",
              "      <td>796000.0</td>\n",
              "      <td>1037000.0</td>\n",
              "      <td>1094500.0</td>\n",
              "      <td>1157000.0</td>\n",
              "      <td>1465000.0</td>\n",
              "    </tr>\n",
              "    <tr>\n",
              "      <th>Maruti Suzuki</th>\n",
              "      <td>293.0</td>\n",
              "      <td>5.887850e+05</td>\n",
              "      <td>2.160199e+05</td>\n",
              "      <td>237000.0</td>\n",
              "      <td>411000.0</td>\n",
              "      <td>527000.0</td>\n",
              "      <td>764000.0</td>\n",
              "      <td>1163000.0</td>\n",
              "    </tr>\n",
              "    <tr>\n",
              "      <th>Nissan</th>\n",
              "      <td>4.0</td>\n",
              "      <td>8.842500e+05</td>\n",
              "      <td>2.895599e+05</td>\n",
              "      <td>475000.0</td>\n",
              "      <td>782500.0</td>\n",
              "      <td>978000.0</td>\n",
              "      <td>1079750.0</td>\n",
              "      <td>1106000.0</td>\n",
              "    </tr>\n",
              "    <tr>\n",
              "      <th>Renault</th>\n",
              "      <td>68.0</td>\n",
              "      <td>6.625735e+05</td>\n",
              "      <td>2.148273e+05</td>\n",
              "      <td>287000.0</td>\n",
              "      <td>475000.0</td>\n",
              "      <td>644000.0</td>\n",
              "      <td>801000.0</td>\n",
              "      <td>1164000.0</td>\n",
              "    </tr>\n",
              "    <tr>\n",
              "      <th>Skoda</th>\n",
              "      <td>5.0</td>\n",
              "      <td>1.136000e+06</td>\n",
              "      <td>1.070175e+06</td>\n",
              "      <td>436000.0</td>\n",
              "      <td>466000.0</td>\n",
              "      <td>538000.0</td>\n",
              "      <td>1299000.0</td>\n",
              "      <td>2941000.0</td>\n",
              "    </tr>\n",
              "    <tr>\n",
              "      <th>Tata</th>\n",
              "      <td>23.0</td>\n",
              "      <td>1.055217e+06</td>\n",
              "      <td>5.578305e+05</td>\n",
              "      <td>188000.0</td>\n",
              "      <td>779500.0</td>\n",
              "      <td>869000.0</td>\n",
              "      <td>1552000.0</td>\n",
              "      <td>2100000.0</td>\n",
              "    </tr>\n",
              "    <tr>\n",
              "      <th>Toyota</th>\n",
              "      <td>50.0</td>\n",
              "      <td>8.003400e+05</td>\n",
              "      <td>2.466900e+05</td>\n",
              "      <td>368000.0</td>\n",
              "      <td>526250.0</td>\n",
              "      <td>894000.0</td>\n",
              "      <td>1023000.0</td>\n",
              "      <td>1092000.0</td>\n",
              "    </tr>\n",
              "    <tr>\n",
              "      <th>Volkswagen</th>\n",
              "      <td>29.0</td>\n",
              "      <td>6.058276e+05</td>\n",
              "      <td>1.198312e+05</td>\n",
              "      <td>402000.0</td>\n",
              "      <td>542000.0</td>\n",
              "      <td>607000.0</td>\n",
              "      <td>699000.0</td>\n",
              "      <td>790000.0</td>\n",
              "    </tr>\n",
              "  </tbody>\n",
              "</table>\n",
              "</div>\n",
              "    <div class=\"colab-df-buttons\">\n",
              "\n",
              "  <div class=\"colab-df-container\">\n",
              "    <button class=\"colab-df-convert\" onclick=\"convertToInteractive('df-9f29acfc-669b-43a7-80b8-7098111c6463')\"\n",
              "            title=\"Convert this dataframe to an interactive table.\"\n",
              "            style=\"display:none;\">\n",
              "\n",
              "  <svg xmlns=\"http://www.w3.org/2000/svg\" height=\"24px\" viewBox=\"0 -960 960 960\">\n",
              "    <path d=\"M120-120v-720h720v720H120Zm60-500h600v-160H180v160Zm220 220h160v-160H400v160Zm0 220h160v-160H400v160ZM180-400h160v-160H180v160Zm440 0h160v-160H620v160ZM180-180h160v-160H180v160Zm440 0h160v-160H620v160Z\"/>\n",
              "  </svg>\n",
              "    </button>\n",
              "\n",
              "  <style>\n",
              "    .colab-df-container {\n",
              "      display:flex;\n",
              "      gap: 12px;\n",
              "    }\n",
              "\n",
              "    .colab-df-convert {\n",
              "      background-color: #E8F0FE;\n",
              "      border: none;\n",
              "      border-radius: 50%;\n",
              "      cursor: pointer;\n",
              "      display: none;\n",
              "      fill: #1967D2;\n",
              "      height: 32px;\n",
              "      padding: 0 0 0 0;\n",
              "      width: 32px;\n",
              "    }\n",
              "\n",
              "    .colab-df-convert:hover {\n",
              "      background-color: #E2EBFA;\n",
              "      box-shadow: 0px 1px 2px rgba(60, 64, 67, 0.3), 0px 1px 3px 1px rgba(60, 64, 67, 0.15);\n",
              "      fill: #174EA6;\n",
              "    }\n",
              "\n",
              "    .colab-df-buttons div {\n",
              "      margin-bottom: 4px;\n",
              "    }\n",
              "\n",
              "    [theme=dark] .colab-df-convert {\n",
              "      background-color: #3B4455;\n",
              "      fill: #D2E3FC;\n",
              "    }\n",
              "\n",
              "    [theme=dark] .colab-df-convert:hover {\n",
              "      background-color: #434B5C;\n",
              "      box-shadow: 0px 1px 3px 1px rgba(0, 0, 0, 0.15);\n",
              "      filter: drop-shadow(0px 1px 2px rgba(0, 0, 0, 0.3));\n",
              "      fill: #FFFFFF;\n",
              "    }\n",
              "  </style>\n",
              "\n",
              "    <script>\n",
              "      const buttonEl =\n",
              "        document.querySelector('#df-9f29acfc-669b-43a7-80b8-7098111c6463 button.colab-df-convert');\n",
              "      buttonEl.style.display =\n",
              "        google.colab.kernel.accessAllowed ? 'block' : 'none';\n",
              "\n",
              "      async function convertToInteractive(key) {\n",
              "        const element = document.querySelector('#df-9f29acfc-669b-43a7-80b8-7098111c6463');\n",
              "        const dataTable =\n",
              "          await google.colab.kernel.invokeFunction('convertToInteractive',\n",
              "                                                    [key], {});\n",
              "        if (!dataTable) return;\n",
              "\n",
              "        const docLinkHtml = 'Like what you see? Visit the ' +\n",
              "          '<a target=\"_blank\" href=https://colab.research.google.com/notebooks/data_table.ipynb>data table notebook</a>'\n",
              "          + ' to learn more about interactive tables.';\n",
              "        element.innerHTML = '';\n",
              "        dataTable['output_type'] = 'display_data';\n",
              "        await google.colab.output.renderOutput(dataTable, element);\n",
              "        const docLink = document.createElement('div');\n",
              "        docLink.innerHTML = docLinkHtml;\n",
              "        element.appendChild(docLink);\n",
              "      }\n",
              "    </script>\n",
              "  </div>\n",
              "\n",
              "\n",
              "<div id=\"df-88f84a54-21c6-4c39-9b10-8f9896e56b41\">\n",
              "  <button class=\"colab-df-quickchart\" onclick=\"quickchart('df-88f84a54-21c6-4c39-9b10-8f9896e56b41')\"\n",
              "            title=\"Suggest charts\"\n",
              "            style=\"display:none;\">\n",
              "\n",
              "<svg xmlns=\"http://www.w3.org/2000/svg\" height=\"24px\"viewBox=\"0 0 24 24\"\n",
              "     width=\"24px\">\n",
              "    <g>\n",
              "        <path d=\"M19 3H5c-1.1 0-2 .9-2 2v14c0 1.1.9 2 2 2h14c1.1 0 2-.9 2-2V5c0-1.1-.9-2-2-2zM9 17H7v-7h2v7zm4 0h-2V7h2v10zm4 0h-2v-4h2v4z\"/>\n",
              "    </g>\n",
              "</svg>\n",
              "  </button>\n",
              "\n",
              "<style>\n",
              "  .colab-df-quickchart {\n",
              "      --bg-color: #E8F0FE;\n",
              "      --fill-color: #1967D2;\n",
              "      --hover-bg-color: #E2EBFA;\n",
              "      --hover-fill-color: #174EA6;\n",
              "      --disabled-fill-color: #AAA;\n",
              "      --disabled-bg-color: #DDD;\n",
              "  }\n",
              "\n",
              "  [theme=dark] .colab-df-quickchart {\n",
              "      --bg-color: #3B4455;\n",
              "      --fill-color: #D2E3FC;\n",
              "      --hover-bg-color: #434B5C;\n",
              "      --hover-fill-color: #FFFFFF;\n",
              "      --disabled-bg-color: #3B4455;\n",
              "      --disabled-fill-color: #666;\n",
              "  }\n",
              "\n",
              "  .colab-df-quickchart {\n",
              "    background-color: var(--bg-color);\n",
              "    border: none;\n",
              "    border-radius: 50%;\n",
              "    cursor: pointer;\n",
              "    display: none;\n",
              "    fill: var(--fill-color);\n",
              "    height: 32px;\n",
              "    padding: 0;\n",
              "    width: 32px;\n",
              "  }\n",
              "\n",
              "  .colab-df-quickchart:hover {\n",
              "    background-color: var(--hover-bg-color);\n",
              "    box-shadow: 0 1px 2px rgba(60, 64, 67, 0.3), 0 1px 3px 1px rgba(60, 64, 67, 0.15);\n",
              "    fill: var(--button-hover-fill-color);\n",
              "  }\n",
              "\n",
              "  .colab-df-quickchart-complete:disabled,\n",
              "  .colab-df-quickchart-complete:disabled:hover {\n",
              "    background-color: var(--disabled-bg-color);\n",
              "    fill: var(--disabled-fill-color);\n",
              "    box-shadow: none;\n",
              "  }\n",
              "\n",
              "  .colab-df-spinner {\n",
              "    border: 2px solid var(--fill-color);\n",
              "    border-color: transparent;\n",
              "    border-bottom-color: var(--fill-color);\n",
              "    animation:\n",
              "      spin 1s steps(1) infinite;\n",
              "  }\n",
              "\n",
              "  @keyframes spin {\n",
              "    0% {\n",
              "      border-color: transparent;\n",
              "      border-bottom-color: var(--fill-color);\n",
              "      border-left-color: var(--fill-color);\n",
              "    }\n",
              "    20% {\n",
              "      border-color: transparent;\n",
              "      border-left-color: var(--fill-color);\n",
              "      border-top-color: var(--fill-color);\n",
              "    }\n",
              "    30% {\n",
              "      border-color: transparent;\n",
              "      border-left-color: var(--fill-color);\n",
              "      border-top-color: var(--fill-color);\n",
              "      border-right-color: var(--fill-color);\n",
              "    }\n",
              "    40% {\n",
              "      border-color: transparent;\n",
              "      border-right-color: var(--fill-color);\n",
              "      border-top-color: var(--fill-color);\n",
              "    }\n",
              "    60% {\n",
              "      border-color: transparent;\n",
              "      border-right-color: var(--fill-color);\n",
              "    }\n",
              "    80% {\n",
              "      border-color: transparent;\n",
              "      border-right-color: var(--fill-color);\n",
              "      border-bottom-color: var(--fill-color);\n",
              "    }\n",
              "    90% {\n",
              "      border-color: transparent;\n",
              "      border-bottom-color: var(--fill-color);\n",
              "    }\n",
              "  }\n",
              "</style>\n",
              "\n",
              "  <script>\n",
              "    async function quickchart(key) {\n",
              "      const quickchartButtonEl =\n",
              "        document.querySelector('#' + key + ' button');\n",
              "      quickchartButtonEl.disabled = true;  // To prevent multiple clicks.\n",
              "      quickchartButtonEl.classList.add('colab-df-spinner');\n",
              "      try {\n",
              "        const charts = await google.colab.kernel.invokeFunction(\n",
              "            'suggestCharts', [key], {});\n",
              "      } catch (error) {\n",
              "        console.error('Error during call to suggestCharts:', error);\n",
              "      }\n",
              "      quickchartButtonEl.classList.remove('colab-df-spinner');\n",
              "      quickchartButtonEl.classList.add('colab-df-quickchart-complete');\n",
              "    }\n",
              "    (() => {\n",
              "      let quickchartButtonEl =\n",
              "        document.querySelector('#df-88f84a54-21c6-4c39-9b10-8f9896e56b41 button');\n",
              "      quickchartButtonEl.style.display =\n",
              "        google.colab.kernel.accessAllowed ? 'block' : 'none';\n",
              "    })();\n",
              "  </script>\n",
              "</div>\n",
              "\n",
              "    </div>\n",
              "  </div>\n"
            ],
            "application/vnd.google.colaboratory.intrinsic+json": {
              "type": "dataframe",
              "summary": "{\n  \"name\": \"df0['Price']\",\n  \"rows\": 16,\n  \"fields\": [\n    {\n      \"column\": \"Make\",\n      \"properties\": {\n        \"dtype\": \"string\",\n        \"num_unique_values\": 16,\n        \"samples\": [\n          \"Chevrolet\",\n          \"Datsun\",\n          \"Jeep\"\n        ],\n        \"semantic_type\": \"\",\n        \"description\": \"\"\n      }\n    },\n    {\n      \"column\": \"count\",\n      \"properties\": {\n        \"dtype\": \"number\",\n        \"std\": 95.77055915050303,\n        \"min\": 3.0,\n        \"max\": 305.0,\n        \"num_unique_values\": 15,\n        \"samples\": [\n          293.0,\n          5.0,\n          6.0\n        ],\n        \"semantic_type\": \"\",\n        \"description\": \"\"\n      }\n    },\n    {\n      \"column\": \"mean\",\n      \"properties\": {\n        \"dtype\": \"number\",\n        \"std\": 434252.2408540643,\n        \"min\": 289666.6666666667,\n        \"max\": 1869457.142857143,\n        \"num_unique_values\": 16,\n        \"samples\": [\n          453500.0,\n          289666.6666666667,\n          1499500.0\n        ],\n        \"semantic_type\": \"\",\n        \"description\": \"\"\n      }\n    },\n    {\n      \"column\": \"std\",\n      \"properties\": {\n        \"dtype\": \"number\",\n        \"std\": 245516.97622180614,\n        \"min\": 10503.967504392487,\n        \"max\": 1070174.9856915923,\n        \"num_unique_values\": 16,\n        \"samples\": [\n          246606.36650338126,\n          10503.967504392487,\n          152513.38739052822\n        ],\n        \"semantic_type\": \"\",\n        \"description\": \"\"\n      }\n    },\n    {\n      \"column\": \"min\",\n      \"properties\": {\n        \"dtype\": \"number\",\n        \"std\": 454403.15708263585,\n        \"min\": 188000.0,\n        \"max\": 1589000.0,\n        \"num_unique_values\": 16,\n        \"samples\": [\n          267000.0,\n          279000.0,\n          1290000.0\n        ],\n        \"semantic_type\": \"\",\n        \"description\": \"\"\n      }\n    },\n    {\n      \"column\": \"25%\",\n      \"properties\": {\n        \"dtype\": \"number\",\n        \"std\": 464606.14116286713,\n        \"min\": 284500.0,\n        \"max\": 1786500.0,\n        \"num_unique_values\": 16,\n        \"samples\": [\n          288500.0,\n          284500.0,\n          1447500.0\n        ],\n        \"semantic_type\": \"\",\n        \"description\": \"\"\n      }\n    },\n    {\n      \"column\": \"50%\",\n      \"properties\": {\n        \"dtype\": \"number\",\n        \"std\": 452876.7664884124,\n        \"min\": 290000.0,\n        \"max\": 1848000.0,\n        \"num_unique_values\": 16,\n        \"samples\": [\n          345500.0,\n          290000.0,\n          1529500.0\n        ],\n        \"semantic_type\": \"\",\n        \"description\": \"\"\n      }\n    },\n    {\n      \"column\": \"75%\",\n      \"properties\": {\n        \"dtype\": \"number\",\n        \"std\": 456829.571384851,\n        \"min\": 295000.0,\n        \"max\": 1978000.0,\n        \"num_unique_values\": 16,\n        \"samples\": [\n          537500.0,\n          295000.0,\n          1581500.0\n        ],\n        \"semantic_type\": \"\",\n        \"description\": \"\"\n      }\n    },\n    {\n      \"column\": \"max\",\n      \"properties\": {\n        \"dtype\": \"number\",\n        \"std\": 621961.8925893558,\n        \"min\": 300000.0,\n        \"max\": 2941000.0,\n        \"num_unique_values\": 16,\n        \"samples\": [\n          892000.0,\n          300000.0,\n          1649000.0\n        ],\n        \"semantic_type\": \"\",\n        \"description\": \"\"\n      }\n    }\n  ]\n}"
            }
          },
          "metadata": {},
          "execution_count": 65
        }
      ]
    },
    {
      "cell_type": "markdown",
      "source": [
        "Prices for MG Motors are the most expensive. Prices are typically normally distributed with a peak, except for a few companies like Toyota, which makes sense because from what I know, they market to a different groups of customers at different price points."
      ],
      "metadata": {
        "id": "-h2FJKPEy7lx"
      }
    },
    {
      "cell_type": "code",
      "source": [
        "N = df.shape[0]\n",
        "df = df.sample(frac=1, random_state=100)\n",
        "train_size = int(.8*N)\n",
        "df_train = df[0:train_size]\n",
        "y_train = df_train['price_ihs']\n",
        "df_test = df[train_size:]\n",
        "y_test = df_test['price_ihs']\n",
        "\n",
        "from sklearn import linear_model\n",
        "var_numeric = ['age', 'mileage_ihs', 'Seating_Capacity']\n",
        "X_train_numeric = df_train.loc[:, var_numeric]\n",
        "reg_numeric = linear_model.LinearRegression().fit(X_train_numeric, y_train)\n",
        "X_test_numeric = df_test.loc[:,var_numeric]\n",
        "y_hat = reg_numeric.predict(X_test_numeric)\n",
        "print(\"Numerical Regression:\", '\\n')\n",
        "print('Numeric only r2: ', reg_numeric.score(X_test_numeric,y_test)) # R2\n",
        "rmse_numeric = np.sqrt( np.mean( (y_test - y_hat)**2 ))\n",
        "print('Numeric only RMSE: ', rmse_numeric) # R2"
      ],
      "metadata": {
        "colab": {
          "base_uri": "https://localhost:8080/"
        },
        "id": "TqZZvIaMzcC4",
        "outputId": "f6db7dd1-a456-4e88-f25a-ed2183592869"
      },
      "execution_count": 83,
      "outputs": [
        {
          "output_type": "stream",
          "name": "stdout",
          "text": [
            "Numerical Regression: \n",
            "\n",
            "Numeric only r2:  0.39264524590092775\n",
            "Numeric only RMSE:  0.3677490305135451\n"
          ]
        }
      ]
    },
    {
      "cell_type": "code",
      "source": [
        "print(\"Categorical Regression:\", '\\n')\n",
        "var_categorical = ['Make', 'Body_Type', 'Color', 'Fuel_Type', 'Transmission', 'Transmission_Type']\n",
        "dummies = pd.DataFrame([])\n",
        "for var in var_categorical:\n",
        "  new_dummies = pd.get_dummies(df.loc[:,var], drop_first=True, dtype=int)\n",
        "  dummies = pd.concat([dummies, new_dummies], axis=1, ignore_index=True)\n",
        "  X_train_categorical = dummies.iloc[0:train_size,:]\n",
        "  X_test_categorical = dummies.iloc[train_size:,:]\n",
        "\n",
        "reg_categorical = linear_model.LinearRegression().fit(X_train_categorical, y_train)\n",
        "y_hat_c = reg_categorical.predict(X_test_categorical)\n",
        "print('Categorical only r2: ', reg_categorical.score(X_test_categorical,y_test)) # R2\n",
        "rmse_c = np.sqrt( np.mean( (y_test - y_hat_c)**2 ))\n",
        "print('Categorical only RMSE: ', rmse_c) # R2"
      ],
      "metadata": {
        "colab": {
          "base_uri": "https://localhost:8080/"
        },
        "id": "xpI9siL93uFQ",
        "outputId": "c2ed7df1-1bb9-473f-e2d8-80da0628b127"
      },
      "execution_count": 82,
      "outputs": [
        {
          "output_type": "stream",
          "name": "stdout",
          "text": [
            "Categorical Regression: \n",
            "\n",
            "Categorical only r2:  0.6912397287719191\n",
            "Categorical only RMSE:  0.2735567764685883\n"
          ]
        }
      ]
    },
    {
      "cell_type": "code",
      "source": [
        "X_train_all = pd.concat([X_train_numeric, X_train_categorical], axis = 1, ignore_index=True)\n",
        "X_test_all = pd.concat([X_test_numeric, X_test_categorical], axis = 1, ignore_index = True)\n",
        "\n",
        "reg_all = linear_model.LinearRegression().fit(X_train_all, y_train)\n",
        "y_hat_all = reg_all.predict(X_test_all)\n",
        "print('All r2: ', reg_all.score(X_test_all,y_test)) # R2\n",
        "rmse_all = np.sqrt( np.mean( (y_test - y_hat_all)**2 ))\n",
        "print('All RMSE: ', rmse_all) # R2"
      ],
      "metadata": {
        "colab": {
          "base_uri": "https://localhost:8080/"
        },
        "id": "utUDVzKs6Txd",
        "outputId": "f56cff8f-d4d0-4339-9eea-96d2f3b95f3f"
      },
      "execution_count": 81,
      "outputs": [
        {
          "output_type": "stream",
          "name": "stdout",
          "text": [
            "All r2:  0.8184210353485429\n",
            "All RMSE:  0.2097826360594888\n"
          ]
        }
      ]
    },
    {
      "cell_type": "markdown",
      "source": [
        "When using all variables, the regression is the most accurate, which makes sense. When separating between numeric and categorical variables, the categorical variables achieved a much higher r2 (0.69) than the numeric (0.39)."
      ],
      "metadata": {
        "id": "61u1LjG57Amd"
      }
    },
    {
      "cell_type": "code",
      "source": [
        "from sklearn.preprocessing import PolynomialFeatures\n",
        "for d in np.arange(1,5):\n",
        "    expander = PolynomialFeatures(degree=d,include_bias=False)\n",
        "\n",
        "    Z = expander.fit_transform(X_test_numeric)\n",
        "    names = expander.get_feature_names_out()\n",
        "    X_test_d = pd.DataFrame(data=Z, columns = names)\n",
        "    Z = expander.fit_transform(X_train_numeric)\n",
        "    names = expander.get_feature_names_out()\n",
        "    X_train_d = pd.DataFrame(data=Z, columns = names)\n",
        "    X_train_d.reset_index(drop=True, inplace=True)\n",
        "    X_train_categorical.reset_index(drop=True, inplace=True)\n",
        "    X_train_all = pd.concat([X_train_d, X_train_categorical], axis=1, ignore_index=True)\n",
        "    X_test_d.reset_index(drop=True, inplace=True)\n",
        "    X_test_categorical.reset_index(drop=True, inplace=True)\n",
        "    X_test_all = pd.concat([X_test_d, X_test_categorical], axis=1, ignore_index=True)\n",
        "    reg_all = linear_model.LinearRegression().fit(X_train_all,y_train)\n",
        "    print(d, ' r2: ', reg_all.score(X_test_all,y_test))\n",
        "    y_hat_all = reg_all.predict(X_test_all)\n",
        "    rmse_all = np.sqrt( np.mean( (y_test - y_hat_all)**2 ))\n",
        "    print(d, 'RMSE: ', rmse_all)"
      ],
      "metadata": {
        "colab": {
          "base_uri": "https://localhost:8080/"
        },
        "id": "xqM1HMku7Vhh",
        "outputId": "a31f43ce-ac5e-4b7d-de79-18a57ca26af9"
      },
      "execution_count": 87,
      "outputs": [
        {
          "output_type": "stream",
          "name": "stdout",
          "text": [
            "1  r2:  0.38618733977274267\n",
            "1 RMSE:  0.36969896923517553\n",
            "2  r2:  0.3753033089250919\n",
            "2 RMSE:  0.37296228900953626\n",
            "3  r2:  0.30539562036182477\n",
            "3 RMSE:  0.3932774791819162\n",
            "4  r2:  -131757314674909.88\n",
            "4 RMSE:  5416486.765192875\n"
          ]
        }
      ]
    },
    {
      "cell_type": "markdown",
      "source": [
        "The best degree I was left with was 1, which had the highers r2 of 0.386."
      ],
      "metadata": {
        "id": "2fZmd1ph8Omc"
      }
    },
    {
      "cell_type": "code",
      "source": [
        "d = 1\n",
        "\n",
        "expander = PolynomialFeatures(degree=d,include_bias=False)\n",
        "Z = expander.fit_transform(X_test_numeric)\n",
        "names = expander.get_feature_names_out()\n",
        "X_test_d = pd.DataFrame(data=Z, columns = names)\n",
        "#\n",
        "Z = expander.fit_transform(X_train_numeric)\n",
        "names = expander.get_feature_names_out()\n",
        "X_train_d = pd.DataFrame(data=Z, columns = names)\n",
        "#\n",
        "X_train_d.reset_index(drop=True, inplace=True)\n",
        "X_train_categorical.reset_index(drop=True, inplace=True)\n",
        "X_train_all = pd.concat([X_train_d, X_train_categorical], axis=1)\n",
        "X_train_all.columns = X_train_all.columns.astype(str)\n",
        "#\n",
        "X_test_d.reset_index(drop=True, inplace=True)\n",
        "X_test_categorical.reset_index(drop=True, inplace=True)\n",
        "X_test_all = pd.concat([X_test_d, X_test_categorical], axis=1)\n",
        "X_test_all.columns = X_test_all.columns.astype(str)\n",
        "#\n",
        "reg_all = linear_model.LinearRegression().fit(X_train_all,y_train) # Run regression\n",
        "#\n",
        "y_hat_all = reg_all.predict(X_test_all)\n",
        "residuals = y_test - y_hat_all\n",
        "\n",
        "#\n",
        "sns.scatterplot(x=y_test,y=y_hat_all)"
      ],
      "metadata": {
        "colab": {
          "base_uri": "https://localhost:8080/",
          "height": 467
        },
        "id": "UXMTvi-t8PIh",
        "outputId": "1df9a2cd-7f52-4191-e96b-08591b2ef3be"
      },
      "execution_count": 97,
      "outputs": [
        {
          "output_type": "execute_result",
          "data": {
            "text/plain": [
              "<Axes: xlabel='price_ihs'>"
            ]
          },
          "metadata": {},
          "execution_count": 97
        },
        {
          "output_type": "display_data",
          "data": {
            "text/plain": [
              "<Figure size 640x480 with 1 Axes>"
            ],
            "image/png": "[encoded data removed]"
          },
          "metadata": {}
        }
      ]
    },
    {
      "cell_type": "markdown",
      "source": [
        "The predicted values loosely line up along the diagonal, but a positive correlation is definitely visible."
      ],
      "metadata": {
        "id": "5ChTkVTo8p-F"
      }
    },
    {
      "cell_type": "code",
      "source": [
        "sns.kdeplot(residuals)"
      ],
      "metadata": {
        "colab": {
          "base_uri": "https://localhost:8080/",
          "height": 467
        },
        "id": "T_c8IU0Z8eki",
        "outputId": "4b382fc6-151c-4aae-c0d3-a37649ee1e6b"
      },
      "execution_count": 98,
      "outputs": [
        {
          "output_type": "execute_result",
          "data": {
            "text/plain": [
              "<Axes: xlabel='price_ihs', ylabel='Density'>"
            ]
          },
          "metadata": {},
          "execution_count": 98
        },
        {
          "output_type": "display_data",
          "data": {
            "text/plain": [
              "<Figure size 640x480 with 1 Axes>"
            ],
            "image/png": "[encoded data removed]"
          },
          "metadata": {}
        }
      ]
    },
    {
      "cell_type": "markdown",
      "source": [
        "Residuals are bell shaped aroung 0 and are normally distributed, suggesting the model is not overestimating or underestimating the response variable. They are also extremely symmetrical and peaked, suggesting errors are consistent. It does tail slightly further in the positive direction, and both tails exceed 1/-1, meaning there are some outliers in both directions, so overall the model seems unbiased.\n"
      ],
      "metadata": {
        "id": "kUBF_lsI8miV"
      }
    }
  ]
}